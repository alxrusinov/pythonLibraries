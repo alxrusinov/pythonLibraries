{
  "nbformat": 4,
  "nbformat_minor": 0,
  "metadata": {
    "colab": {
      "name": "numpy.ipynb",
      "provenance": []
    },
    "kernelspec": {
      "name": "python3",
      "display_name": "Python 3"
    },
    "language_info": {
      "name": "python"
    }
  },
  "cells": [
    {
      "cell_type": "markdown",
      "metadata": {
        "id": "hi6U-v_N8Wzt"
      },
      "source": [
        "## Задача 1"
      ]
    },
    {
      "cell_type": "code",
      "metadata": {
        "colab": {
          "base_uri": "https://localhost:8080/"
        },
        "id": "vfxHDldY8SzE",
        "outputId": "5aa21711-5478-4c9f-d5cd-abd47de22a32"
      },
      "source": [
        "import numpy as np\n",
        "\n",
        "a = np.array([i for i in zip([1, 2, 3, 3, 1], [6, 8, 11, 10, 7])])\n",
        "mean_a = np.mean(a, axis=0)\n",
        "print(f'среднее по признакам {mean_a}')\n",
        "a"
      ],
      "execution_count": null,
      "outputs": [
        {
          "output_type": "stream",
          "text": [
            "среднее по признакам [2.  8.4]\n"
          ],
          "name": "stdout"
        },
        {
          "output_type": "execute_result",
          "data": {
            "text/plain": [
              "array([[ 1,  6],\n",
              "       [ 2,  8],\n",
              "       [ 3, 11],\n",
              "       [ 3, 10],\n",
              "       [ 1,  7]])"
            ]
          },
          "metadata": {
            "tags": []
          },
          "execution_count": 24
        }
      ]
    },
    {
      "cell_type": "markdown",
      "metadata": {
        "id": "4XCMpfrnC4PV"
      },
      "source": [
        "## Задача 2"
      ]
    },
    {
      "cell_type": "code",
      "metadata": {
        "colab": {
          "base_uri": "https://localhost:8080/"
        },
        "id": "yJnPe2snC8am",
        "outputId": "361af57c-b727-4cdb-f7ff-49d44d3d9865"
      },
      "source": [
        "a_centered = np.subtract(a, mean_a)\n",
        "print(a_centered)"
      ],
      "execution_count": null,
      "outputs": [
        {
          "output_type": "stream",
          "text": [
            "[[-1.  -2.4]\n",
            " [ 0.  -0.4]\n",
            " [ 1.   2.6]\n",
            " [ 1.   1.6]\n",
            " [-1.  -1.4]]\n"
          ],
          "name": "stdout"
        }
      ]
    },
    {
      "cell_type": "markdown",
      "metadata": {
        "id": "nG_v0-9wFMIt"
      },
      "source": [
        "## Задача 3"
      ]
    },
    {
      "cell_type": "code",
      "metadata": {
        "colab": {
          "base_uri": "https://localhost:8080/"
        },
        "id": "f1VMYIFcFLtP",
        "outputId": "528917ec-93bd-488a-b138-c29d97c0d62a"
      },
      "source": [
        "n = a.shape[0]\n",
        "a_centered_sp = np.inner(a_centered[:,0], a_centered[:,1])\n",
        "cov_calculated = a_centered_sp / (n - 1)\n",
        "print(f'вычисленное значение {cov_calculated}')"
      ],
      "execution_count": null,
      "outputs": [
        {
          "output_type": "stream",
          "text": [
            "вычисленное значение 2.0\n"
          ],
          "name": "stdout"
        }
      ]
    },
    {
      "cell_type": "markdown",
      "metadata": {
        "id": "neIFdBzsI9MB"
      },
      "source": [
        "## Задача 4"
      ]
    },
    {
      "cell_type": "code",
      "metadata": {
        "colab": {
          "base_uri": "https://localhost:8080/"
        },
        "id": "qWsTePniI_j1",
        "outputId": "3d0e3e95-2c6c-4010-8a56-1e4464d08c84"
      },
      "source": [
        "cov = np.cov(a.T, ddof=1)\n",
        "print(cov[0,1])"
      ],
      "execution_count": null,
      "outputs": [
        {
          "output_type": "stream",
          "text": [
            "2.0\n"
          ],
          "name": "stdout"
        }
      ]
    }
  ]
}